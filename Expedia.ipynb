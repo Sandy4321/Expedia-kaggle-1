{
 "cells": [
  {
   "cell_type": "markdown",
   "metadata": {},
   "source": [
    "# Kaggle competition--Expedia"
   ]
  },
  {
   "cell_type": "code",
   "execution_count": 16,
   "metadata": {
    "collapsed": true
   },
   "outputs": [],
   "source": [
    "import pandas as pd"
   ]
  },
  {
   "cell_type": "code",
   "execution_count": 17,
   "metadata": {
    "collapsed": false
   },
   "outputs": [],
   "source": [
    "destinations = pd.read_csv(\"D:/Kaggle/expedia-data/destinations.csv\")"
   ]
  },
  {
   "cell_type": "code",
   "execution_count": 18,
   "metadata": {
    "collapsed": true
   },
   "outputs": [],
   "source": [
    "sample_submission=pd.read_csv(\"D:/Kaggle/expedia-data/sample_submission.csv\")"
   ]
  },
  {
   "cell_type": "code",
   "execution_count": 19,
   "metadata": {
    "collapsed": true
   },
   "outputs": [],
   "source": [
    "test = pd.read_csv(\"D:/Kaggle/expedia-data/test.csv\")"
   ]
  },
  {
   "cell_type": "code",
   "execution_count": null,
   "metadata": {
    "collapsed": false
   },
   "outputs": [],
   "source": [
    "\n",
    "\n",
    "\n",
    "\n",
    "\n",
    "\n",
    "\n",
    "\n",
    "train = pd.read_csv(\"D:/Kaggle/expedia-data/train.csv\")"
   ]
  },
  {
   "cell_type": "code",
   "execution_count": 4,
   "metadata": {
    "collapsed": false
   },
   "outputs": [],
   "source": [
    "import pyodbc"
   ]
  },
  {
   "cell_type": "code",
   "execution_count": 15,
   "metadata": {
    "collapsed": false
   },
   "outputs": [
    {
     "ename": "Error",
     "evalue": "('28000', \"[28000] [Microsoft][ODBC SQL Server Driver][SQL Server]Login failed for user 'root'. (18456) (SQLDriverConnect); [01S00] [Microsoft][ODBC SQL Server Driver]\\xce\\xde\\xd0\\xa7\\xb5\\xc4\\xc1\\xac\\xbd\\xd3\\xd7\\xd6\\xb7\\xfb\\xb4\\xae\\xca\\xf4\\xd0\\xd4 (0); [28000] [Microsoft][ODBC SQL Server Driver][SQL Server]Login failed for user 'root'. (18456); [01S00] [Microsoft][ODBC SQL Server Driver]\\xce\\xde\\xd0\\xa7\\xb5\\xc4\\xc1\\xac\\xbd\\xd3\\xd7\\xd6\\xb7\\xfb\\xb4\\xae\\xca\\xf4\\xd0\\xd4 (0)\")",
     "output_type": "error",
     "traceback": [
      "\u001b[1;31m---------------------------------------------------------------------------\u001b[0m",
      "\u001b[1;31mError\u001b[0m                                     Traceback (most recent call last)",
      "\u001b[1;32m<ipython-input-15-d3d8d296bf12>\u001b[0m in \u001b[0;36m<module>\u001b[1;34m()\u001b[0m\n\u001b[0;32m     11\u001b[0m \u001b[1;33m\u001b[0m\u001b[0m\n\u001b[0;32m     12\u001b[0m \u001b[1;33m\u001b[0m\u001b[0m\n\u001b[1;32m---> 13\u001b[1;33m \u001b[0mcnxn\u001b[0m \u001b[1;33m=\u001b[0m \u001b[0mpyodbc\u001b[0m\u001b[1;33m.\u001b[0m\u001b[0mconnect\u001b[0m\u001b[1;33m(\u001b[0m\u001b[1;34m'DRIVER={SQL Server};SERVER=ALEXMERHOOM-PC\\SQLEXPRESS;Integrated Security=True; DATABASE=skype;UID=root;PWD=zs152534'\u001b[0m\u001b[1;33m)\u001b[0m\u001b[1;33m\u001b[0m\u001b[0m\n\u001b[0m\u001b[0;32m     14\u001b[0m \u001b[1;33m\u001b[0m\u001b[0m\n\u001b[0;32m     15\u001b[0m \u001b[0mcursor\u001b[0m \u001b[1;33m=\u001b[0m \u001b[0mcnxn\u001b[0m\u001b[1;33m.\u001b[0m\u001b[0mcursor\u001b[0m\u001b[1;33m(\u001b[0m\u001b[1;33m)\u001b[0m\u001b[1;33m\u001b[0m\u001b[0m\n",
      "\u001b[1;31mError\u001b[0m: ('28000', \"[28000] [Microsoft][ODBC SQL Server Driver][SQL Server]Login failed for user 'root'. (18456) (SQLDriverConnect); [01S00] [Microsoft][ODBC SQL Server Driver]\\xce\\xde\\xd0\\xa7\\xb5\\xc4\\xc1\\xac\\xbd\\xd3\\xd7\\xd6\\xb7\\xfb\\xb4\\xae\\xca\\xf4\\xd0\\xd4 (0); [28000] [Microsoft][ODBC SQL Server Driver][SQL Server]Login failed for user 'root'. (18456); [01S00] [Microsoft][ODBC SQL Server Driver]\\xce\\xde\\xd0\\xa7\\xb5\\xc4\\xc1\\xac\\xbd\\xd3\\xd7\\xd6\\xb7\\xfb\\xb4\\xae\\xca\\xf4\\xd0\\xd4 (0)\")"
     ]
    }
   ],
   "source": [
    "#cnxn = pyodbc.connect(\"DRIVER={SQL Server};SERVER=127.0.0.1;DATABASE=skype\")\n",
    "#cursor = cnxn.cursor()\n",
    "\n",
    "\n",
    "#cursor.execute(\"select top 8 * from skype\")\n",
    "\n",
    "\n",
    "\n",
    "\n",
    "#cnxn = pyodbc.connect('DRIVER={SQL Server};SERVER=127.0.0.1;DATABASE=skype;UID=root;PWD=zs152534')\n",
    "\n",
    "\n",
    "cnxn = pyodbc.connect('DRIVER={SQL Server};SERVER=ALEXMERHOOM-PC\\SQLEXPRESS;Integrated Security=True; DATABASE=skype;UID=root;PWD=zs152534')\n",
    "\n",
    "cursor = cnxn.cursor()"
   ]
  },
  {
   "cell_type": "code",
   "execution_count": 21,
   "metadata": {
    "collapsed": false
   },
   "outputs": [
    {
     "ename": "Error",
     "evalue": "('IM002', '[IM002] [Microsoft][ODBC \\xc7\\xfd\\xb6\\xaf\\xb3\\xcc\\xd0\\xf2\\xb9\\xdc\\xc0\\xed\\xc6\\xf7] \\xce\\xb4\\xb7\\xa2\\xcf\\xd6\\xca\\xfd\\xbe\\xdd\\xd4\\xb4\\xc3\\xfb\\xb3\\xc6\\xb2\\xa2\\xc7\\xd2\\xce\\xb4\\xd6\\xb8\\xb6\\xa8\\xc4\\xac\\xc8\\xcf\\xc7\\xfd\\xb6\\xaf\\xb3\\xcc\\xd0\\xf2 (0) (SQLDriverConnect)')",
     "output_type": "error",
     "traceback": [
      "\u001b[1;31m---------------------------------------------------------------------------\u001b[0m",
      "\u001b[1;31mError\u001b[0m                                     Traceback (most recent call last)",
      "\u001b[1;32m<ipython-input-21-c5f360e9eb2b>\u001b[0m in \u001b[0;36m<module>\u001b[1;34m()\u001b[0m\n\u001b[1;32m----> 1\u001b[1;33m \u001b[0mcnxn\u001b[0m \u001b[1;33m=\u001b[0m \u001b[0mpyodbc\u001b[0m\u001b[1;33m.\u001b[0m\u001b[0mconnect\u001b[0m\u001b[1;33m(\u001b[0m\u001b[1;34m'DRIVER={SQL Server 2012};SERVER=127.0.0.1,3306;DATABASE=orders;UID=root;PWD=zs152534'\u001b[0m\u001b[1;33m)\u001b[0m\u001b[1;33m\u001b[0m\u001b[0m\n\u001b[0m\u001b[0;32m      2\u001b[0m \u001b[0mcursor\u001b[0m \u001b[1;33m=\u001b[0m \u001b[0mcnxn\u001b[0m\u001b[1;33m.\u001b[0m\u001b[0mcursor\u001b[0m\u001b[1;33m(\u001b[0m\u001b[1;33m)\u001b[0m\u001b[1;33m\u001b[0m\u001b[0m\n\u001b[0;32m      3\u001b[0m \u001b[1;33m\u001b[0m\u001b[0m\n",
      "\u001b[1;31mError\u001b[0m: ('IM002', '[IM002] [Microsoft][ODBC \\xc7\\xfd\\xb6\\xaf\\xb3\\xcc\\xd0\\xf2\\xb9\\xdc\\xc0\\xed\\xc6\\xf7] \\xce\\xb4\\xb7\\xa2\\xcf\\xd6\\xca\\xfd\\xbe\\xdd\\xd4\\xb4\\xc3\\xfb\\xb3\\xc6\\xb2\\xa2\\xc7\\xd2\\xce\\xb4\\xd6\\xb8\\xb6\\xa8\\xc4\\xac\\xc8\\xcf\\xc7\\xfd\\xb6\\xaf\\xb3\\xcc\\xd0\\xf2 (0) (SQLDriverConnect)')"
     ]
    }
   ],
   "source": [
    "cnxn = pyodbc.connect('DRIVER={SQL Server 2012};SERVER=127.0.0.1,3306;DATABASE=orders;UID=root;PWD=zs152534')\n",
    "cursor = cnxn.cursor()\n",
    "\n"
   ]
  },
  {
   "cell_type": "code",
   "execution_count": null,
   "metadata": {
    "collapsed": true
   },
   "outputs": [],
   "source": [
    "\n",
    "cursor.execute(\"select top 8 * from orders\")\n",
    "for row in cursor.fetchall():\n",
    "    print row"
   ]
  },
  {
   "cell_type": "code",
   "execution_count": null,
   "metadata": {
    "collapsed": true
   },
   "outputs": [],
   "source": []
  },
  {
   "cell_type": "code",
   "execution_count": 3,
   "metadata": {
    "collapsed": false
   },
   "outputs": [
    {
     "ename": "ImportError",
     "evalue": "No module named mySQLdb",
     "output_type": "error",
     "traceback": [
      "\u001b[1;31m---------------------------------------------------------------------------\u001b[0m",
      "\u001b[1;31mImportError\u001b[0m                               Traceback (most recent call last)",
      "\u001b[1;32m<ipython-input-3-0765498544f1>\u001b[0m in \u001b[0;36m<module>\u001b[1;34m()\u001b[0m\n\u001b[1;32m----> 1\u001b[1;33m \u001b[1;32mimport\u001b[0m \u001b[0mmySQLdb\u001b[0m\u001b[1;33m\u001b[0m\u001b[0m\n\u001b[0m",
      "\u001b[1;31mImportError\u001b[0m: No module named mySQLdb"
     ]
    }
   ],
   "source": [
    "import mySQLdb"
   ]
  },
  {
   "cell_type": "code",
   "execution_count": null,
   "metadata": {
    "collapsed": false
   },
   "outputs": [],
   "source": []
  },
  {
   "cell_type": "code",
   "execution_count": null,
   "metadata": {
    "collapsed": true
   },
   "outputs": [],
   "source": []
  },
  {
   "cell_type": "code",
   "execution_count": 30,
   "metadata": {
    "collapsed": false
   },
   "outputs": [
    {
     "ename": "Error",
     "evalue": "('IM002', '[IM002] [Microsoft][ODBC \\xc7\\xfd\\xb6\\xaf\\xb3\\xcc\\xd0\\xf2\\xb9\\xdc\\xc0\\xed\\xc6\\xf7] \\xce\\xb4\\xb7\\xa2\\xcf\\xd6\\xca\\xfd\\xbe\\xdd\\xd4\\xb4\\xc3\\xfb\\xb3\\xc6\\xb2\\xa2\\xc7\\xd2\\xce\\xb4\\xd6\\xb8\\xb6\\xa8\\xc4\\xac\\xc8\\xcf\\xc7\\xfd\\xb6\\xaf\\xb3\\xcc\\xd0\\xf2 (0) (SQLDriverConnect)')",
     "output_type": "error",
     "traceback": [
      "\u001b[1;31m---------------------------------------------------------------------------\u001b[0m",
      "\u001b[1;31mError\u001b[0m                                     Traceback (most recent call last)",
      "\u001b[1;32m<ipython-input-30-ab8e27efc403>\u001b[0m in \u001b[0;36m<module>\u001b[1;34m()\u001b[0m\n\u001b[1;32m----> 1\u001b[1;33m \u001b[0mcnxn\u001b[0m \u001b[1;33m=\u001b[0m \u001b[0mpyodbc\u001b[0m\u001b[1;33m.\u001b[0m\u001b[0mconnect\u001b[0m\u001b[1;33m(\u001b[0m\u001b[1;34m'SERVER=127.0.0.1;PORT=3306;DATABASE=skype;UID=root;PWD=zs152534'\u001b[0m\u001b[1;33m)\u001b[0m\u001b[1;33m\u001b[0m\u001b[0m\n\u001b[0m",
      "\u001b[1;31mError\u001b[0m: ('IM002', '[IM002] [Microsoft][ODBC \\xc7\\xfd\\xb6\\xaf\\xb3\\xcc\\xd0\\xf2\\xb9\\xdc\\xc0\\xed\\xc6\\xf7] \\xce\\xb4\\xb7\\xa2\\xcf\\xd6\\xca\\xfd\\xbe\\xdd\\xd4\\xb4\\xc3\\xfb\\xb3\\xc6\\xb2\\xa2\\xc7\\xd2\\xce\\xb4\\xd6\\xb8\\xb6\\xa8\\xc4\\xac\\xc8\\xcf\\xc7\\xfd\\xb6\\xaf\\xb3\\xcc\\xd0\\xf2 (0) (SQLDriverConnect)')"
     ]
    }
   ],
   "source": [
    "cnxn = pyodbc.connect('SERVER=127.0.0.1;PORT=3306;DATABASE=skype;UID=root;PWD=zs152534')"
   ]
  },
  {
   "cell_type": "code",
   "execution_count": 38,
   "metadata": {
    "collapsed": false
   },
   "outputs": [
    {
     "ename": "Error",
     "evalue": "('01S00', '[01S00] [Microsoft][ODBC \\xc7\\xfd\\xb6\\xaf\\xb3\\xcc\\xd0\\xf2\\xb9\\xdc\\xc0\\xed\\xc6\\xf7] \\xce\\xde\\xd0\\xa7\\xb5\\xc4\\xc1\\xac\\xbd\\xd3\\xd7\\xd6\\xb7\\xfb\\xb4\\xae\\xca\\xf4\\xd0\\xd4 (0) (SQLDriverConnect)')",
     "output_type": "error",
     "traceback": [
      "\u001b[1;31m---------------------------------------------------------------------------\u001b[0m",
      "\u001b[1;31mError\u001b[0m                                     Traceback (most recent call last)",
      "\u001b[1;32m<ipython-input-38-9ec926a437a2>\u001b[0m in \u001b[0;36m<module>\u001b[1;34m()\u001b[0m\n\u001b[1;32m----> 1\u001b[1;33m \u001b[0mcnxn\u001b[0m \u001b[1;33m=\u001b[0m \u001b[0mpyodbc\u001b[0m\u001b[1;33m.\u001b[0m\u001b[0mconnect\u001b[0m\u001b[1;33m(\u001b[0m\u001b[1;34m'driver={SQL Server}, host=127.0.0.1, database=skype,trusted_connection=tcon, user=root, password=zs152534'\u001b[0m\u001b[1;33m)\u001b[0m\u001b[1;33m\u001b[0m\u001b[0m\n\u001b[0m",
      "\u001b[1;31mError\u001b[0m: ('01S00', '[01S00] [Microsoft][ODBC \\xc7\\xfd\\xb6\\xaf\\xb3\\xcc\\xd0\\xf2\\xb9\\xdc\\xc0\\xed\\xc6\\xf7] \\xce\\xde\\xd0\\xa7\\xb5\\xc4\\xc1\\xac\\xbd\\xd3\\xd7\\xd6\\xb7\\xfb\\xb4\\xae\\xca\\xf4\\xd0\\xd4 (0) (SQLDriverConnect)')"
     ]
    }
   ],
   "source": [
    "cnxn = pyodbc.connect('driver={SQL Server}, host=127.0.0.1, database=skype,trusted_connection=tcon, user=root, password=zs152534')"
   ]
  },
  {
   "cell_type": "code",
   "execution_count": null,
   "metadata": {
    "collapsed": true
   },
   "outputs": [],
   "source": []
  }
 ],
 "metadata": {
  "kernelspec": {
   "display_name": "Python 2",
   "language": "python",
   "name": "python2"
  },
  "language_info": {
   "codemirror_mode": {
    "name": "ipython",
    "version": 2
   },
   "file_extension": ".py",
   "mimetype": "text/x-python",
   "name": "python",
   "nbconvert_exporter": "python",
   "pygments_lexer": "ipython2",
   "version": "2.7.11"
  }
 },
 "nbformat": 4,
 "nbformat_minor": 0
}
