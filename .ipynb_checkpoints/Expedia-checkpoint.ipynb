{
 "cells": [
  {
   "cell_type": "markdown",
   "metadata": {},
   "source": [
    "# Kaggle competition--Expedia"
   ]
  },
  {
   "cell_type": "code",
   "execution_count": 2,
   "metadata": {
    "collapsed": true
   },
   "outputs": [],
   "source": [
    "import pandas as pd"
   ]
  },
  {
   "cell_type": "code",
   "execution_count": 2,
   "metadata": {
    "collapsed": false
   },
   "outputs": [],
   "source": [
    "destinations = pd.read_csv(\"D:/Kaggle/expedia-data/destinations.csv\")"
   ]
  },
  {
   "cell_type": "code",
   "execution_count": 3,
   "metadata": {
    "collapsed": true
   },
   "outputs": [],
   "source": [
    "sample_submission=pd.read_csv(\"D:/Kaggle/expedia-data/sample_submission.csv\")"
   ]
  },
  {
   "cell_type": "code",
   "execution_count": 4,
   "metadata": {
    "collapsed": true
   },
   "outputs": [],
   "source": [
    "test = pd.read_csv(\"D:/Kaggle/expedia-data/test.csv\")"
   ]
  },
  {
   "cell_type": "code",
   "execution_count": null,
   "metadata": {
    "collapsed": true
   },
   "outputs": [],
   "source": [
    "#train = pd.read_csv(\"D:/Kaggle/expedia-data/train.csv\")"
   ]
  },
  {
   "cell_type": "markdown",
   "metadata": {},
   "source": [
    "# read big csv file by bulks"
   ]
  },
  {
   "cell_type": "code",
   "execution_count": null,
   "metadata": {
    "collapsed": true
   },
   "outputs": [],
   "source": [
    "reader = pd.read_csv('D:/Kaggle/expedia-data/train.csv', iterator=True)\n",
    "try:\n",
    "    train = reader.get_chunk(100000000)\n",
    "except StopIteration:\n",
    "    print \"Iteration is stopped.\""
   ]
  },
  {
   "cell_type": "code",
   "execution_count": null,
   "metadata": {
    "collapsed": false
   },
   "outputs": [],
   "source": [
    "reader = pd.read_csv('D:/Kaggle/expedia-data/train.csv', iterator=True)\n",
    "loop = True\n",
    "chunkSize = 2000000\n",
    "chunks = []\n",
    "while loop:\n",
    "    try:\n",
    "        chunk = reader.get_chunk(chunkSize)\n",
    "        chunks.append(chunk)\n",
    "    except StopIteration:\n",
    "        loop = False\n",
    "        print \"Iteration is stopped.\"\n",
    "df = pd.concat(chunks, ignore_index=True)"
   ]
  },
  {
   "cell_type": "code",
   "execution_count": 10,
   "metadata": {
    "collapsed": false
   },
   "outputs": [
    {
     "name": "stdout",
     "output_type": "stream",
     "text": [
      "<class 'pandas.core.frame.DataFrame'>\n",
      "Int64Index: 2528243 entries, 0 to 2528242\n",
      "Data columns (total 22 columns):\n",
      "id                           int64\n",
      "date_time                    object\n",
      "site_name                    int64\n",
      "posa_continent               int64\n",
      "user_location_country        int64\n",
      "user_location_region         int64\n",
      "user_location_city           int64\n",
      "orig_destination_distance    float64\n",
      "user_id                      int64\n",
      "is_mobile                    int64\n",
      "is_package                   int64\n",
      "channel                      int64\n",
      "srch_ci                      object\n",
      "srch_co                      object\n",
      "srch_adults_cnt              int64\n",
      "srch_children_cnt            int64\n",
      "srch_rm_cnt                  int64\n",
      "srch_destination_id          int64\n",
      "srch_destination_type_id     int64\n",
      "hotel_continent              int64\n",
      "hotel_country                int64\n",
      "hotel_market                 int64\n",
      "dtypes: float64(1), int64(18), object(3)\n",
      "memory usage: 443.6+ MB\n"
     ]
    }
   ],
   "source": [
    "test.info()"
   ]
  },
  {
   "cell_type": "code",
   "execution_count": 11,
   "metadata": {
    "collapsed": false
   },
   "outputs": [
    {
     "data": {
      "text/plain": [
       "(2528243, 22)"
      ]
     },
     "execution_count": 11,
     "metadata": {},
     "output_type": "execute_result"
    }
   ],
   "source": [
    "\n",
    "train.shape"
   ]
  },
  {
   "cell_type": "code",
   "execution_count": 1,
   "metadata": {
    "collapsed": true
   },
   "outputs": [],
   "source": [
    "# new methond"
   ]
  },
  {
   "cell_type": "code",
   "execution_count": 12,
   "metadata": {
    "collapsed": true
   },
   "outputs": [],
   "source": [
    "# coding: utf-8\n",
    "__author__ = 'ZFTurbo: https://kaggle.com/zfturbo'\n",
    "\n",
    "import datetime\n",
    "from heapq import nlargest\n",
    "from operator import itemgetter\n",
    "from collections import defaultdict\n",
    "\n",
    "\n",
    "def run_solution():\n",
    "    print('Preparing arrays...')\n",
    "    f = open(\"D:/Kaggle/expedia-input-data/data/train.csv\", \"r\")\n",
    "    f.readline()\n",
    "    best_hotels_od_ulc = defaultdict(lambda: defaultdict(int))\n",
    "    best_hotels_search_dest = defaultdict(lambda: defaultdict(int))\n",
    "    best_hotels_search_dest1 = defaultdict(lambda: defaultdict(int))\n",
    "    best_hotel_country = defaultdict(lambda: defaultdict(int))\n",
    "    popular_hotel_cluster = defaultdict(int)\n",
    "    total = 0\n",
    "\n",
    "    # Calc counts\n",
    "    while 1:\n",
    "        line = f.readline().strip()\n",
    "        total += 1\n",
    "\n",
    "        if total % 10000000 == 0:\n",
    "            print('Read {} lines...'.format(total))\n",
    "\n",
    "        if line == '':\n",
    "            break\n",
    "\n",
    "        arr = line.split(\",\")\n",
    "        book_year = int(arr[0][:4])\n",
    "        user_location_city = arr[5]\n",
    "        orig_destination_distance = arr[6]\n",
    "        srch_destination_id = arr[16]\n",
    "        is_booking = int(arr[18])\n",
    "        hotel_country = arr[21]\n",
    "        hotel_market = arr[22]\n",
    "        hotel_cluster = arr[23]\n",
    "\n",
    "        append_1 = 3 + 17*is_booking\n",
    "        append_2 = 1 + 5*is_booking\n",
    "\n",
    "        if user_location_city != '' and orig_destination_distance != '':\n",
    "            best_hotels_od_ulc[(user_location_city, orig_destination_distance)][hotel_cluster] += 1\n",
    "\n",
    "        if srch_destination_id != '' and hotel_country != '' and hotel_market != '' and book_year == 2014:\n",
    "            best_hotels_search_dest[(srch_destination_id, hotel_country, hotel_market)][hotel_cluster] += append_1\n",
    "        \n",
    "        if srch_destination_id != '':\n",
    "            best_hotels_search_dest1[srch_destination_id][hotel_cluster] += append_1\n",
    "        \n",
    "        if hotel_country != '':\n",
    "            best_hotel_country[hotel_country][hotel_cluster] += append_2\n",
    "        \n",
    "        popular_hotel_cluster[hotel_cluster] += 1\n",
    "    \n",
    "    f.close()\n",
    "\n",
    "    print('Generate submission...')\n",
    "    now = datetime.datetime.now()\n",
    "    path = 'submission_' + str(now.strftime(\"%Y-%m-%d-%H-%M\")) + '.csv'\n",
    "    out = open(path, \"w\")\n",
    "    f = open(\"D:/Kaggle/expedia-input-data/data/test.csv\", \"r\")\n",
    "    f.readline()\n",
    "    total = 0\n",
    "    out.write(\"id,hotel_cluster\\n\")\n",
    "    topclasters = nlargest(5, sorted(popular_hotel_cluster.items()), key=itemgetter(1))\n",
    "\n",
    "    while 1:\n",
    "        line = f.readline().strip()\n",
    "        total += 1\n",
    "\n",
    "        if total % 1000000 == 0:\n",
    "            print('Write {} lines...'.format(total))\n",
    "\n",
    "        if line == '':\n",
    "            break\n",
    "\n",
    "        arr = line.split(\",\")\n",
    "        id = arr[0]\n",
    "        user_location_city = arr[6]\n",
    "        orig_destination_distance = arr[7]\n",
    "        srch_destination_id = arr[17]\n",
    "        hotel_country = arr[20]\n",
    "        hotel_market = arr[21]\n",
    "\n",
    "        out.write(str(id) + ',')\n",
    "        filled = []\n",
    "\n",
    "        s1 = (user_location_city, orig_destination_distance)\n",
    "        if s1 in best_hotels_od_ulc:\n",
    "            d = best_hotels_od_ulc[s1]\n",
    "            topitems = nlargest(5, sorted(d.items()), key=itemgetter(1))\n",
    "            for i in range(len(topitems)):\n",
    "                if topitems[i][0] in filled:\n",
    "                    continue\n",
    "                if len(filled) == 5:\n",
    "                    break\n",
    "                out.write(' ' + topitems[i][0])\n",
    "                filled.append(topitems[i][0])\n",
    "\n",
    "        s2 = (srch_destination_id, hotel_country, hotel_market)\n",
    "        if s2 in best_hotels_search_dest:\n",
    "            d = best_hotels_search_dest[s2]\n",
    "            topitems = nlargest(5, d.items(), key=itemgetter(1))\n",
    "            for i in range(len(topitems)):\n",
    "                if topitems[i][0] in filled:\n",
    "                    continue\n",
    "                if len(filled) == 5:\n",
    "                    break\n",
    "                out.write(' ' + topitems[i][0])\n",
    "                filled.append(topitems[i][0])\n",
    "        elif srch_destination_id in best_hotels_search_dest1:\n",
    "            d = best_hotels_search_dest1[srch_destination_id]\n",
    "            topitems = nlargest(5, d.items(), key=itemgetter(1))\n",
    "            for i in range(len(topitems)):\n",
    "                if topitems[i][0] in filled:\n",
    "                    continue\n",
    "                if len(filled) == 5:\n",
    "                    break\n",
    "                out.write(' ' + topitems[i][0])\n",
    "                filled.append(topitems[i][0])\n",
    "\n",
    "        if hotel_country in best_hotel_country:\n",
    "            d = best_hotel_country[hotel_country]\n",
    "            topitems = nlargest(5, d.items(), key=itemgetter(1))\n",
    "            for i in range(len(topitems)):\n",
    "                if topitems[i][0] in filled:\n",
    "                    continue\n",
    "                if len(filled) == 5:\n",
    "                    break\n",
    "                out.write(' ' + topitems[i][0])\n",
    "                filled.append(topitems[i][0])\n",
    "\n",
    "        for i in range(len(topclasters)):\n",
    "            if topclasters[i][0] in filled:\n",
    "                continue\n",
    "            if len(filled) == 5:\n",
    "                break\n",
    "            out.write(' ' + topclasters[i][0])\n",
    "            filled.append(topclasters[i][0])\n",
    "\n",
    "        out.write(\"\\n\")\n",
    "    out.close()\n",
    "    print('Completed!')\n"
   ]
  },
  {
   "cell_type": "code",
   "execution_count": null,
   "metadata": {
    "collapsed": false
   },
   "outputs": [
    {
     "name": "stdout",
     "output_type": "stream",
     "text": [
      "Preparing arrays...\n",
      "Read 10000000 lines...\n",
      "Read 20000000 lines...\n",
      "Read 30000000 lines...\n",
      "Generate submission...\n",
      "Write 1000000 lines...\n",
      "Write 2000000 lines...\n",
      "Completed!"
     ]
    }
   ],
   "source": [
    "\n",
    "run_solution()"
   ]
  },
  {
   "cell_type": "code",
   "execution_count": null,
   "metadata": {
    "collapsed": true
   },
   "outputs": [],
   "source": [
    "import time\n",
    "from time import time\n",
    "t0_jiahong = time()\n",
    "run_solution()\n",
    "print (time()-t0_jiahong)/60"
   ]
  }
 ],
 "metadata": {
  "kernelspec": {
   "display_name": "Python 2",
   "language": "python",
   "name": "python2"
  },
  "language_info": {
   "codemirror_mode": {
    "name": "ipython",
    "version": 2
   },
   "file_extension": ".py",
   "mimetype": "text/x-python",
   "name": "python",
   "nbconvert_exporter": "python",
   "pygments_lexer": "ipython2",
   "version": "2.7.11"
  }
 },
 "nbformat": 4,
 "nbformat_minor": 0
}
