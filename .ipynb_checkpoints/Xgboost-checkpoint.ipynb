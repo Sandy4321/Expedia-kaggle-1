{
 "cells": [
  {
   "cell_type": "code",
   "execution_count": 1,
   "metadata": {
    "collapsed": true
   },
   "outputs": [],
   "source": [
    "import numpy as np\n",
    "import pandas as pd\n",
    "import xgboost as xgb\n",
    "import sys\n",
    "\n",
    "filepath = 'D:/git_repository/input/expedia/'\n",
    "\n",
    "trainloc = filepath + \"train.csv\"\n",
    "testloc = filepath + \"test.csv\"\n",
    "ssloc = filepath + \"sample_submission.csv\"\n",
    "train_cols = ['site_name', 'user_location_region', 'is_package', 'srch_adults_cnt', 'srch_children_cnt', 'srch_destination_id', 'hotel_market', 'hotel_country', 'hotel_cluster']\n",
    "\n",
    "params = {}\n",
    "params['objective'] = 'multi:softprob'\n",
    "params['eval_metric'] = 'map@5'\n",
    "params['num_class'] = 100\n"
   ]
  },
  {
   "cell_type": "code",
   "execution_count": null,
   "metadata": {
    "collapsed": false
   },
   "outputs": [
    {
     "name": "stdout",
     "output_type": "stream",
     "text": [
      "Rows loaded: 1mn\n",
      "Rows loaded: 2mn\n",
      "Rows loaded: 3mn\n",
      "Rows loaded: 4mn\n",
      "Rows loaded: 5mn\n",
      "Rows loaded: 6mn\n",
      "Rows loaded: 7mn\n",
      "Rows loaded: 8mn\n",
      "Rows loaded: 9mn\n",
      "Rows loaded: 10mn\n",
      "Rows loaded: 11mn\n",
      "Rows loaded: 12mn\n",
      "Rows loaded: 13mn\n",
      "Rows loaded: 14mn\n",
      "Rows loaded: 15mn\n",
      "Rows loaded: 16mn\n",
      "Rows loaded: 17mn\n",
      "Rows loaded: 18mn\n",
      "Rows loaded: 19mn\n",
      "Rows loaded: 20mn\n",
      "Rows loaded: 21mn\n",
      "Rows loaded: 22mn\n",
      "Rows loaded: 23mn\n",
      "Rows loaded: 24mn\n",
      "Rows loaded: 25mn\n",
      "Rows loaded: 26mn\n",
      "Rows loaded: 27mn\n",
      "Rows loaded: 28mn\n",
      "Rows loaded: 29mn\n",
      "Rows loaded: 30mn\n",
      "Rows loaded: 31mn\n",
      "Rows loaded: 32mn\n",
      "Rows loaded: 33mn\n",
      "Rows loaded: 34mn\n",
      "Rows loaded: 35mn\n",
      "Rows loaded: 36mn\n",
      "Rows loaded: 37mn\n",
      "    site_name  user_location_region  is_package  srch_adults_cnt  \\\n",
      "1         2.0                 348.0         1.0              2.0   \n",
      "20        2.0                 318.0         1.0              2.0   \n",
      "27       30.0                 548.0         1.0              2.0   \n",
      "72       30.0                 991.0         0.0              2.0   \n",
      "79        2.0                 462.0         1.0              3.0   \n",
      "\n",
      "    srch_children_cnt  srch_destination_id  hotel_market  hotel_country  \\\n",
      "1                 0.0               8250.0         628.0           50.0   \n",
      "20                0.0               8291.0         191.0           50.0   \n",
      "27                0.0               1385.0         185.0          185.0   \n",
      "72                0.0               8803.0          69.0          151.0   \n",
      "79                0.0              12009.0         680.0           50.0   \n",
      "\n",
      "    hotel_cluster  \n",
      "1             1.0  \n",
      "20            2.0  \n",
      "27           58.0  \n",
      "72           36.0  \n",
      "79           95.0  \n"
     ]
    },
    {
     "name": "stderr",
     "output_type": "stream",
     "text": [
      "/home/jiahong_linux/anaconda2/lib/python2.7/site-packages/numpy/lib/arraysetops.py:379: FutureWarning: elementwise comparison failed; returning scalar instead, but in the future will perform elementwise comparison\n",
      "  mask |= (ar1 == a)\n"
     ]
    }
   ],
   "source": [
    "\n",
    "df_train = pd.DataFrame(columns=train_cols)\n",
    "train_chunk = pd.read_csv(trainloc, chunksize=100000)\n",
    "i = 0\n",
    "for chunk in train_chunk:\n",
    "    df_train = pd.concat([df_train, chunk[chunk['is_booking']==1][train_cols]])\n",
    "    i = i + 1\n",
    "    if i % 10 == 0:\n",
    "        print(\"Rows loaded: \" + str(i/10) + \"mn\")\n",
    "\n",
    "print(df_train.head())\n",
    "#print(df_train.shape())\n",
    "x_train = df_train.drop(['hotel_cluster'])\n",
    "y_train = df_train['hotel_cluster'].values\n",
    "\n",
    "# Create train datamatrix\n",
    "d_train = xgb.DMatrix(x_train, label=y_train)\n",
    "\n",
    "clf = xgb.cv(params, d_train, num_boost_round=100000, early_stopping_rounds=50, verbose_eval=True, metrics='map@5')"
   ]
  }
 ],
 "metadata": {
  "anaconda-cloud": {},
  "kernelspec": {
   "display_name": "Python [conda root]",
   "language": "python",
   "name": "conda-root-py"
  },
  "language_info": {
   "codemirror_mode": {
    "name": "ipython",
    "version": 3
   },
   "file_extension": ".py",
   "mimetype": "text/x-python",
   "name": "python",
   "nbconvert_exporter": "python",
   "pygments_lexer": "ipython3",
   "version": "3.5.2"
  }
 },
 "nbformat": 4,
 "nbformat_minor": 0
}
