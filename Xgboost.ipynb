{
 "cells": [
  {
   "cell_type": "code",
   "execution_count": 10,
   "metadata": {
    "collapsed": true
   },
   "outputs": [],
   "source": [
    "import numpy as np\n",
    "import pandas as pd\n",
    "import xgboost as xgb\n",
    "import sys\n",
    "\n",
    "filepath = 'D:/input/expedia/'\n",
    "\n",
    "trainloc = filepath + \"train.csv\"\n",
    "testloc = filepath + \"test.csv\"\n",
    "ssloc = filepath + \"sample_submission.csv\"\n",
    "train_cols = ['site_name', 'user_location_region', 'is_package', 'srch_adults_cnt', 'srch_children_cnt', 'srch_destination_id', 'hotel_market', 'hotel_country', 'hotel_cluster']\n",
    "\n",
    "params = {}\n",
    "params['objective'] = 'multi:softprob'\n",
    "params['eval_metric'] = 'map@5'\n",
    "params['num_class'] = 100\n"
   ]
  },
  {
   "cell_type": "code",
   "execution_count": null,
   "metadata": {
    "collapsed": false
   },
   "outputs": [
    {
     "name": "stdout",
     "output_type": "stream",
     "text": [
      "Rows loaded: 1.0million rows\n",
      "Rows loaded: 2.0million rows\n",
      "Rows loaded: 3.0million rows\n",
      "Rows loaded: 4.0million rows\n",
      "Rows loaded: 5.0million rows\n",
      "Rows loaded: 6.0million rows\n",
      "Rows loaded: 7.0million rows\n",
      "Rows loaded: 8.0million rows\n",
      "Rows loaded: 9.0million rows\n",
      "Rows loaded: 10.0million rows\n",
      "Rows loaded: 11.0million rows\n",
      "Rows loaded: 12.0million rows\n",
      "Rows loaded: 13.0million rows\n",
      "Rows loaded: 14.0million rows\n"
     ]
    }
   ],
   "source": [
    "df_train = pd.DataFrame(columns=train_cols)\n",
    "train_chunk = pd.read_csv(trainloc, chunksize=100000)\n",
    "i = 0\n",
    "for chunk in train_chunk:\n",
    "    df_train = pd.concat([df_train, chunk[chunk['is_booking']==1][train_cols]])\n",
    "    i = i + 1\n",
    "    if i % 10 == 0:\n",
    "        print(\"Rows loaded: \" + str(i/10) + \"   million rows\")\n",
    "\n",
    "print(df_train.head())\n",
    "#print(df_train.shape())\n",
    "x_train = df_train.drop(['hotel_cluster'])\n",
    "y_train = df_train['hotel_cluster'].values\n",
    "\n",
    "# Create train datamatrix\n",
    "d_train = xgb.DMatrix(x_train, label=y_train)\n",
    "\n",
    "clf = xgb.cv(params, d_train, num_boost_round=100000, early_stopping_rounds=50, verbose_eval=True, metrics='map@5')"
   ]
  }
 ],
 "metadata": {
  "anaconda-cloud": {},
  "kernelspec": {
   "display_name": "Python [conda root]",
   "language": "python",
   "name": "conda-root-py"
  },
  "language_info": {
   "codemirror_mode": {
    "name": "ipython",
    "version": 3
   },
   "file_extension": ".py",
   "mimetype": "text/x-python",
   "name": "python",
   "nbconvert_exporter": "python",
   "pygments_lexer": "ipython3",
   "version": "3.5.2"
  }
 },
 "nbformat": 4,
 "nbformat_minor": 0
}
